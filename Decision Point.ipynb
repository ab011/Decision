{
 "cells": [
  {
   "cell_type": "code",
   "execution_count": 1,
   "metadata": {},
   "outputs": [],
   "source": [
    "from pyspark.sql import SparkSession\n",
    "from pyspark.sql import SQLContext\n",
    "from pyspark import SparkContext\n",
    "import os"
   ]
  },
  {
   "cell_type": "code",
   "execution_count": 2,
   "metadata": {},
   "outputs": [],
   "source": [
    "spark = SparkSession.builder.appName(\"Basics\").getOrCreate()"
   ]
  },
  {
   "cell_type": "code",
   "execution_count": 3,
   "metadata": {},
   "outputs": [],
   "source": [
    "lower_h1 = 1\n",
    "upper_h1 = 3\n",
    "lower_h2 = 4\n",
    "upper_h2 = 7"
   ]
  },
  {
   "cell_type": "code",
   "execution_count": 4,
   "metadata": {},
   "outputs": [],
   "source": [
    "def validationFunction(x):\n",
    "    #print(x.filter1.lower())\n",
    "    try:\n",
    "        f1 = mapping[x.filter1.lower()]\n",
    "        f2 = mapping[x.filter2.lower()]\n",
    "        f3 = mapping[x.filter3.lower()]\n",
    "        f4 = mapping[x.filter4.lower()]\n",
    "        f5 = mapping[x.filter5.lower()]\n",
    "    except:\n",
    "        return 0\n",
    "    \n",
    "    #print(f1,f2,f3,f4,f5)\n",
    "    x1 = []\n",
    "    x2 = []\n",
    "    \n",
    "    if(f1<=upper_h1 and f1>=lower_h1 and f1!=0):\n",
    "        x1.append(f1)\n",
    "    elif (f1<=upper_h2 and f1>=lower_h2 and f1!=0):\n",
    "        x2.append(f1)\n",
    "        \n",
    "    if(f2<=upper_h1 and f2>=lower_h1 and f2!=0):\n",
    "        x1.append(f2)\n",
    "    elif (f2<=upper_h2 and f2>=lower_h2 and f2!=0):\n",
    "        x2.append(f2)\n",
    "        \n",
    "    if(f3<=upper_h1 and f3>=lower_h1 and f3!=0):\n",
    "        x1.append(f3)\n",
    "    elif (f3<=upper_h2 and f3>=lower_h2 and f3!=0):\n",
    "        x2.append(f3)\n",
    "        \n",
    "    if(f4<=upper_h1 and f4>=lower_h1 and f4!=0):\n",
    "        x1.append(f4)\n",
    "    elif (f4<=upper_h2 and f4>=lower_h2 and f4!=0):\n",
    "        x2.append(f4)\n",
    "        \n",
    "    if(f5<=upper_h1 and f5>=lower_h1 and f5!=0):\n",
    "        x1.append(f5)\n",
    "    elif (f5<=upper_h2 and f5>=lower_h2 and f5!=0):\n",
    "        x2.append(f5)\n",
    "\n",
    "    flag = 0    \n",
    "    if(x1 == sorted(x1) and x2 == sorted(x2)):\n",
    "        flag = 1\n",
    "    \n",
    "    return flag"
   ]
  },
  {
   "cell_type": "code",
   "execution_count": 5,
   "metadata": {},
   "outputs": [],
   "source": [
    "filename = 'decision.csv'"
   ]
  },
  {
   "cell_type": "code",
   "execution_count": 6,
   "metadata": {},
   "outputs": [],
   "source": [
    "df = spark.read.options(delimiter = ',', header = True).csv(filename)"
   ]
  },
  {
   "cell_type": "code",
   "execution_count": 7,
   "metadata": {},
   "outputs": [],
   "source": [
    "df = df.na.fill(\"NULL\")"
   ]
  },
  {
   "cell_type": "code",
   "execution_count": 20,
   "metadata": {},
   "outputs": [
    {
     "name": "stdout",
     "output_type": "stream",
     "text": [
      "+------------+------------+-------+--------+------------+----+\n",
      "|     filter1|     filter2|filter3| filter4|     filter5| val|\n",
      "+------------+------------+-------+--------+------------+----+\n",
      "|          OG|          BU|Country|Category|Master Brand|   1|\n",
      "|          OG|          BU|Country|Category|         Cat|   1|\n",
      "|          OG|          BU|Country|    NULL|        NULL|   1|\n",
      "|          OG|          BU|   NULL|    NULL|        NULL|   1|\n",
      "|          OG|        NULL|   NULL|    NULL|        NULL|   1|\n",
      "|          OG|     Country|     BU|    NULL|        NULL|   0|\n",
      "|    Category|Master Brand|  IC/FC|   Brand|          OG|   0|\n",
      "|    Category|Master Brand|  Brand|   IC/FC|          OG|   1|\n",
      "|          OG|          BU|  IC/FC|   Brand|Master Brand|   0|\n",
      "|Master Brand|        NULL|   NULL|    NULL|        NULL|   1|\n",
      "|          OG|        NULL|   NULL|    NULL|        NULL|   1|\n",
      "|          BU|        NULL|   NULL|    NULL|        NULL|   1|\n",
      "|     Country|        NULL|   NULL|    NULL|        NULL|   1|\n",
      "|    Category|        NULL|   NULL|    NULL|        NULL|   1|\n",
      "|       Brand|        NULL|   NULL|    NULL|        NULL|   1|\n",
      "|       IC/FC|        NULL|   NULL|    NULL|        NULL|   1|\n",
      "|     Country|       Brand|   NULL|    NULL|        NULL|   1|\n",
      "|       IC/FC|       Brand|     OG|      BU|     Country|   0|\n",
      "|       IC/FC|        NULL|   NULL|    NULL|        NULL|NULL|\n",
      "+------------+------------+-------+--------+------------+----+\n",
      "\n"
     ]
    }
   ],
   "source": [
    "df.show()"
   ]
  },
  {
   "cell_type": "code",
   "execution_count": 21,
   "metadata": {},
   "outputs": [],
   "source": [
    "mapping = {\n",
    "    'og':1,\n",
    "    'bu':2,\n",
    "    'country':3,\n",
    "    'category':4,\n",
    "    'master brand':5,\n",
    "    'brand': 6,\n",
    "    'ic/fc':7,\n",
    "    'null':0\n",
    "}"
   ]
  },
  {
   "cell_type": "code",
   "execution_count": 10,
   "metadata": {},
   "outputs": [],
   "source": [
    "df_schema = ['filter1','filter2','filter3','filter4','filter5','Check']"
   ]
  },
  {
   "cell_type": "code",
   "execution_count": 11,
   "metadata": {},
   "outputs": [
    {
     "name": "stdout",
     "output_type": "stream",
     "text": [
      "+------------+------------+-------+--------+------------+----+\n",
      "|     filter1|     filter2|filter3| filter4|     filter5| val|\n",
      "+------------+------------+-------+--------+------------+----+\n",
      "|          OG|          BU|Country|Category|Master Brand|   1|\n",
      "|          OG|          BU|Country|Category|         Cat|   1|\n",
      "|          OG|          BU|Country|    NULL|        NULL|   1|\n",
      "|          OG|          BU|   NULL|    NULL|        NULL|   1|\n",
      "|          OG|        NULL|   NULL|    NULL|        NULL|   1|\n",
      "|          OG|     Country|     BU|    NULL|        NULL|   0|\n",
      "|    Category|Master Brand|  IC/FC|   Brand|          OG|   0|\n",
      "|    Category|Master Brand|  Brand|   IC/FC|          OG|   1|\n",
      "|          OG|          BU|  IC/FC|   Brand|Master Brand|   0|\n",
      "|Master Brand|        NULL|   NULL|    NULL|        NULL|   1|\n",
      "|          OG|        NULL|   NULL|    NULL|        NULL|   1|\n",
      "|          BU|        NULL|   NULL|    NULL|        NULL|   1|\n",
      "|     Country|        NULL|   NULL|    NULL|        NULL|   1|\n",
      "|    Category|        NULL|   NULL|    NULL|        NULL|   1|\n",
      "|       Brand|        NULL|   NULL|    NULL|        NULL|   1|\n",
      "|       IC/FC|        NULL|   NULL|    NULL|        NULL|   1|\n",
      "|     Country|       Brand|   NULL|    NULL|        NULL|   1|\n",
      "|       IC/FC|       Brand|     OG|      BU|     Country|   0|\n",
      "|       IC/FC|        NULL|   NULL|    NULL|        NULL|NULL|\n",
      "+------------+------------+-------+--------+------------+----+\n",
      "\n"
     ]
    }
   ],
   "source": [
    "df.show()"
   ]
  },
  {
   "cell_type": "code",
   "execution_count": 12,
   "metadata": {},
   "outputs": [],
   "source": [
    "y = df.rdd.map(lambda x: (x.filter1,x.filter2,x.filter3,x.filter4,x.filter5,validationFunction(x)))"
   ]
  },
  {
   "cell_type": "code",
   "execution_count": 13,
   "metadata": {},
   "outputs": [
    {
     "data": {
      "text/plain": [
       "[('OG', 'BU', 'Country', 'Category', 'Master Brand', 1),\n",
       " ('OG', 'BU', 'Country', 'Category', 'Cat', 0),\n",
       " ('OG', 'BU', 'Country', 'NULL', 'NULL', 1),\n",
       " ('OG', 'BU', 'NULL', 'NULL', 'NULL', 1),\n",
       " ('OG', 'NULL', 'NULL', 'NULL', 'NULL', 1),\n",
       " ('OG', 'Country', 'BU', 'NULL', 'NULL', 0),\n",
       " ('Category', 'Master Brand', 'IC/FC', 'Brand', 'OG', 0),\n",
       " ('Category', 'Master Brand', 'Brand', 'IC/FC', 'OG', 1),\n",
       " ('OG', 'BU', 'IC/FC', 'Brand', 'Master Brand', 0),\n",
       " ('Master Brand', 'NULL', 'NULL', 'NULL', 'NULL', 1),\n",
       " ('OG', 'NULL', 'NULL', 'NULL', 'NULL', 1),\n",
       " ('BU', 'NULL', 'NULL', 'NULL', 'NULL', 1),\n",
       " ('Country', 'NULL', 'NULL', 'NULL', 'NULL', 1),\n",
       " ('Category', 'NULL', 'NULL', 'NULL', 'NULL', 1),\n",
       " ('Brand', 'NULL', 'NULL', 'NULL', 'NULL', 1),\n",
       " ('IC/FC', 'NULL', 'NULL', 'NULL', 'NULL', 1),\n",
       " ('Country', 'Brand', 'NULL', 'NULL', 'NULL', 1),\n",
       " ('IC/FC', 'Brand', 'OG', 'BU', 'Country', 0),\n",
       " ('IC/FC', 'NULL', 'NULL', 'NULL', 'NULL', 1)]"
      ]
     },
     "execution_count": 13,
     "metadata": {},
     "output_type": "execute_result"
    }
   ],
   "source": [
    "y.collect()"
   ]
  },
  {
   "cell_type": "code",
   "execution_count": 14,
   "metadata": {},
   "outputs": [],
   "source": [
    "finaldf = y.toDF(df_schema)"
   ]
  },
  {
   "cell_type": "code",
   "execution_count": 15,
   "metadata": {},
   "outputs": [
    {
     "name": "stdout",
     "output_type": "stream",
     "text": [
      "+------------+------------+-------+--------+------------+-----+\n",
      "|     filter1|     filter2|filter3| filter4|     filter5|Check|\n",
      "+------------+------------+-------+--------+------------+-----+\n",
      "|          OG|          BU|Country|Category|Master Brand|    1|\n",
      "|          OG|          BU|Country|Category|         Cat|    0|\n",
      "|          OG|          BU|Country|    NULL|        NULL|    1|\n",
      "|          OG|          BU|   NULL|    NULL|        NULL|    1|\n",
      "|          OG|        NULL|   NULL|    NULL|        NULL|    1|\n",
      "|          OG|     Country|     BU|    NULL|        NULL|    0|\n",
      "|    Category|Master Brand|  IC/FC|   Brand|          OG|    0|\n",
      "|    Category|Master Brand|  Brand|   IC/FC|          OG|    1|\n",
      "|          OG|          BU|  IC/FC|   Brand|Master Brand|    0|\n",
      "|Master Brand|        NULL|   NULL|    NULL|        NULL|    1|\n",
      "|          OG|        NULL|   NULL|    NULL|        NULL|    1|\n",
      "|          BU|        NULL|   NULL|    NULL|        NULL|    1|\n",
      "|     Country|        NULL|   NULL|    NULL|        NULL|    1|\n",
      "|    Category|        NULL|   NULL|    NULL|        NULL|    1|\n",
      "|       Brand|        NULL|   NULL|    NULL|        NULL|    1|\n",
      "|       IC/FC|        NULL|   NULL|    NULL|        NULL|    1|\n",
      "|     Country|       Brand|   NULL|    NULL|        NULL|    1|\n",
      "|       IC/FC|       Brand|     OG|      BU|     Country|    0|\n",
      "|       IC/FC|        NULL|   NULL|    NULL|        NULL|    1|\n",
      "+------------+------------+-------+--------+------------+-----+\n",
      "\n"
     ]
    }
   ],
   "source": [
    "finaldf.show()"
   ]
  },
  {
   "cell_type": "code",
   "execution_count": 16,
   "metadata": {},
   "outputs": [],
   "source": [
    "filtereddf = finaldf.filter(finaldf.Check == 1)"
   ]
  },
  {
   "cell_type": "code",
   "execution_count": 17,
   "metadata": {},
   "outputs": [
    {
     "name": "stdout",
     "output_type": "stream",
     "text": [
      "+------------+------------+-------+--------+------------+-----+\n",
      "|     filter1|     filter2|filter3| filter4|     filter5|Check|\n",
      "+------------+------------+-------+--------+------------+-----+\n",
      "|          OG|          BU|Country|Category|Master Brand|    1|\n",
      "|          OG|          BU|Country|    NULL|        NULL|    1|\n",
      "|          OG|          BU|   NULL|    NULL|        NULL|    1|\n",
      "|          OG|        NULL|   NULL|    NULL|        NULL|    1|\n",
      "|    Category|Master Brand|  Brand|   IC/FC|          OG|    1|\n",
      "|Master Brand|        NULL|   NULL|    NULL|        NULL|    1|\n",
      "|          OG|        NULL|   NULL|    NULL|        NULL|    1|\n",
      "|          BU|        NULL|   NULL|    NULL|        NULL|    1|\n",
      "|     Country|        NULL|   NULL|    NULL|        NULL|    1|\n",
      "|    Category|        NULL|   NULL|    NULL|        NULL|    1|\n",
      "|       Brand|        NULL|   NULL|    NULL|        NULL|    1|\n",
      "|       IC/FC|        NULL|   NULL|    NULL|        NULL|    1|\n",
      "|     Country|       Brand|   NULL|    NULL|        NULL|    1|\n",
      "|       IC/FC|        NULL|   NULL|    NULL|        NULL|    1|\n",
      "+------------+------------+-------+--------+------------+-----+\n",
      "\n"
     ]
    }
   ],
   "source": [
    "filtereddf.show()"
   ]
  },
  {
   "cell_type": "code",
   "execution_count": 18,
   "metadata": {},
   "outputs": [],
   "source": [
    "loggeddf = finaldf.filter(finaldf.Check == 0)"
   ]
  },
  {
   "cell_type": "code",
   "execution_count": 19,
   "metadata": {},
   "outputs": [
    {
     "name": "stdout",
     "output_type": "stream",
     "text": [
      "+--------+------------+-------+--------+------------+-----+\n",
      "| filter1|     filter2|filter3| filter4|     filter5|Check|\n",
      "+--------+------------+-------+--------+------------+-----+\n",
      "|      OG|          BU|Country|Category|         Cat|    0|\n",
      "|      OG|     Country|     BU|    NULL|        NULL|    0|\n",
      "|Category|Master Brand|  IC/FC|   Brand|          OG|    0|\n",
      "|      OG|          BU|  IC/FC|   Brand|Master Brand|    0|\n",
      "|   IC/FC|       Brand|     OG|      BU|     Country|    0|\n",
      "+--------+------------+-------+--------+------------+-----+\n",
      "\n"
     ]
    }
   ],
   "source": [
    "loggeddf.show()"
   ]
  },
  {
   "cell_type": "code",
   "execution_count": null,
   "metadata": {},
   "outputs": [],
   "source": []
  }
 ],
 "metadata": {
  "kernelspec": {
   "display_name": "Python 3",
   "language": "python",
   "name": "python3"
  },
  "language_info": {
   "codemirror_mode": {
    "name": "ipython",
    "version": 3
   },
   "file_extension": ".py",
   "mimetype": "text/x-python",
   "name": "python",
   "nbconvert_exporter": "python",
   "pygments_lexer": "ipython3",
   "version": "3.7.0"
  }
 },
 "nbformat": 4,
 "nbformat_minor": 2
}
